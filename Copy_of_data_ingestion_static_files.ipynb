{
  "nbformat": 4,
  "nbformat_minor": 0,
  "metadata": {
    "colab": {
      "provenance": []
    },
    "kernelspec": {
      "name": "python3",
      "display_name": "Python 3"
    },
    "language_info": {
      "name": "python"
    }
  },
  "cells": [
    {
      "cell_type": "code",
      "execution_count": null,
      "metadata": {
        "id": "6ppwn5OUB5Xs"
      },
      "outputs": [],
      "source": []
    },
    {
      "cell_type": "markdown",
      "source": [
        "# Ingestion and Storage of Static Files into S3 Bucket\n",
        "\n",
        "## **Objective**\n",
        "This document outlines the steps to upload static files (e.g., PDFs) into an AWS S3 bucket using Google Colab. This process is integral to setting up the Data Lake for further analysis and integration.\n",
        "\n",
        "---\n",
        "\n",
        "## **Prerequisites**\n",
        "1. **AWS Account**: Ensure you have an active AWS account.\n",
        "2. **Google Colab**: Python environment set up for the execution of scripts.\n",
        "3. **AWS Credentials**: Have the following ready:\n",
        "   - `AWS_ACCESS_KEY_ID`\n",
        "   - `AWS_SECRET_ACCESS_KEY`\n",
        "   - `AWS_REGION`\n",
        "\n",
        "---\n",
        "\n",
        "## **Step 1: Install Required Libraries**\n",
        "\n",
        "Install the `boto3` library to interact with AWS services.\n",
        "\n",
        "```python\n",
        "!pip install boto3\n"
      ],
      "metadata": {
        "id": "SMbMAdd9DNZk"
      }
    },
    {
      "cell_type": "code",
      "source": [
        "!pip install boto3"
      ],
      "metadata": {
        "colab": {
          "base_uri": "https://localhost:8080/"
        },
        "id": "c5FCqb1dDdb7",
        "outputId": "b71a77d8-e372-4d9a-ed2f-216031e1ae3a"
      },
      "execution_count": null,
      "outputs": [
        {
          "output_type": "stream",
          "name": "stdout",
          "text": [
            "Requirement already satisfied: boto3 in /usr/local/lib/python3.10/dist-packages (1.35.72)\n",
            "Requirement already satisfied: botocore<1.36.0,>=1.35.72 in /usr/local/lib/python3.10/dist-packages (from boto3) (1.35.72)\n",
            "Requirement already satisfied: jmespath<2.0.0,>=0.7.1 in /usr/local/lib/python3.10/dist-packages (from boto3) (1.0.1)\n",
            "Requirement already satisfied: s3transfer<0.11.0,>=0.10.0 in /usr/local/lib/python3.10/dist-packages (from boto3) (0.10.4)\n",
            "Requirement already satisfied: python-dateutil<3.0.0,>=2.1 in /usr/local/lib/python3.10/dist-packages (from botocore<1.36.0,>=1.35.72->boto3) (2.8.2)\n",
            "Requirement already satisfied: urllib3!=2.2.0,<3,>=1.25.4 in /usr/local/lib/python3.10/dist-packages (from botocore<1.36.0,>=1.35.72->boto3) (2.2.3)\n",
            "Requirement already satisfied: six>=1.5 in /usr/local/lib/python3.10/dist-packages (from python-dateutil<3.0.0,>=2.1->botocore<1.36.0,>=1.35.72->boto3) (1.16.0)\n"
          ]
        }
      ]
    },
    {
      "cell_type": "markdown",
      "source": [
        "Step 2: Import Required Modules\n",
        "Import the necessary Python libraries for AWS interaction and file handling."
      ],
      "metadata": {
        "id": "M2Ap0omTEvQF"
      }
    },
    {
      "cell_type": "code",
      "source": [
        "import boto3\n",
        "import os\n"
      ],
      "metadata": {
        "id": "IKyVJ02eDYKj"
      },
      "execution_count": null,
      "outputs": []
    },
    {
      "cell_type": "code",
      "source": [
        "from google.colab import drive\n",
        "drive.mount('/content/drive')"
      ],
      "metadata": {
        "id": "B0QL4pibYzMA"
      },
      "execution_count": null,
      "outputs": []
    },
    {
      "cell_type": "code",
      "source": [
        "for file_name in os.listdir(local_directory):\n",
        "    print(file_name)\n"
      ],
      "metadata": {
        "id": "edzE3SAVY4Xn"
      },
      "execution_count": null,
      "outputs": []
    },
    {
      "cell_type": "markdown",
      "source": [
        "Step 3: Configure AWS Credentials\n",
        "Set up the AWS credentials to allow secure access to the S3 bucket."
      ],
      "metadata": {
        "id": "qyiPdKHgD0qX"
      }
    },
    {
      "cell_type": "code",
      "source": [
        "# AWS credentials & S3 bucket name\n",
        "aws_access_key = ''\n",
        "aws_secret_key = ''\n",
        "aws_region = 'us-east-1'\n",
        "bucket_name = 'mysbb-static-files-bucket'\n",
        "\n",
        "# Initialize the S3 client\n",
        "s3_client = boto3.client(\n",
        "    's3',\n",
        "    aws_access_key_id=aws_access_key,\n",
        "    aws_secret_access_key=aws_secret_key,\n",
        "    region_name=aws_region\n",
        ")\n"
      ],
      "metadata": {
        "id": "naas62H_D7Is"
      },
      "execution_count": null,
      "outputs": []
    },
    {
      "cell_type": "markdown",
      "source": [
        "Step 4:\n",
        "Define the S3 Bucket and Local Directory\n",
        "\n",
        "Specify the S3 bucket name and the path to the local directory containing files for upload."
      ],
      "metadata": {
        "id": "8Ap-HoCLE0yR"
      }
    },
    {
      "cell_type": "code",
      "source": [
        "\n",
        "\n",
        "# Local directory containing static files\n",
        "local_directory = '/content/drive/My Drive/Data Warehouse & Lake System'\n"
      ],
      "metadata": {
        "id": "7hNc4cV1D8F8"
      },
      "execution_count": null,
      "outputs": []
    },
    {
      "cell_type": "markdown",
      "source": [
        "Step 5: Create the Upload Function\n",
        "\n",
        "Define a function to upload files from the local directory to the S3 bucket.\n",
        "\n",
        "The function traverses all files in the directory and uploads them."
      ],
      "metadata": {
        "id": "eUXFMmZeEGLh"
      }
    },
    {
      "cell_type": "code",
      "source": [
        "def upload_files_to_s3(local_directory, bucket_name):\n",
        "    for root, _, files in os.walk(local_directory):\n",
        "        for file in files:\n",
        "            local_path = os.path.join(root, file)\n",
        "            relative_path = os.path.relpath(local_path, local_directory)\n",
        "            s3_path = relative_path.replace(\"\\\\\", \"/\")  # Ensure compatibility with Windows paths\n",
        "\n",
        "            try:\n",
        "                s3_client.upload_file(local_path, bucket_name, s3_path)\n",
        "                print(f\"Uploaded {local_path} to s3://{bucket_name}/{s3_path}\")\n",
        "            except Exception as e:\n",
        "                print(f\"Failed to upload {local_path}: {str(e)}\")\n"
      ],
      "metadata": {
        "id": "Wkb7FSQXEACw"
      },
      "execution_count": null,
      "outputs": []
    },
    {
      "cell_type": "markdown",
      "source": [
        "Execute the function to upload all the files in the specified local directory to the S3 bucket."
      ],
      "metadata": {
        "id": "tVW2sDxbEFuc"
      }
    },
    {
      "cell_type": "code",
      "source": [
        "upload_files_to_s3(local_directory, bucket_name)\n"
      ],
      "metadata": {
        "colab": {
          "base_uri": "https://localhost:8080/"
        },
        "id": "bvJrcLl6EEz3",
        "outputId": "1733d4c1-c94c-41d6-b6e1-9fb9f754cd01"
      },
      "execution_count": null,
      "outputs": [
        {
          "output_type": "stream",
          "name": "stdout",
          "text": [
            "Uploaded /content/drive/My Drive/Data Warehouse & Lake System/anzahl-sbb-bahnhofbenutzer-tagesverlauf.csv to s3://mysbb-static-files-bucket/anzahl-sbb-bahnhofbenutzer-tagesverlauf.csv\n",
            "Uploaded /content/drive/My Drive/Data Warehouse & Lake System/anzahl-sbb-bahnhofbenutzer.csv to s3://mysbb-static-files-bucket/anzahl-sbb-bahnhofbenutzer.csv\n",
            "Uploaded /content/drive/My Drive/Data Warehouse & Lake System/linie.csv to s3://mysbb-static-files-bucket/linie.csv\n",
            "Uploaded /content/drive/My Drive/Data Warehouse & Lake System/data_ingestion_static_files.ipynb to s3://mysbb-static-files-bucket/data_ingestion_static_files.ipynb\n"
          ]
        }
      ]
    },
    {
      "cell_type": "markdown",
      "source": [
        "Step 7: Verify the Uploads\n",
        "Check whether the files have been successfully uploaded to the S3 bucket by listing its contents."
      ],
      "metadata": {
        "id": "y-MAoGheEKJC"
      }
    },
    {
      "cell_type": "code",
      "source": [
        "response = s3_client.list_objects_v2(Bucket=bucket_name)\n",
        "\n",
        "if 'Contents' in response:\n",
        "    for obj in response['Contents']:\n",
        "        print(obj['Key'])\n",
        "else:\n",
        "    print(\"No files found in the bucket.\")\n"
      ],
      "metadata": {
        "colab": {
          "base_uri": "https://localhost:8080/"
        },
        "id": "yPze8L9yEJMk",
        "outputId": "8a54889e-7d55-4d04-ded1-92092449ef32"
      },
      "execution_count": null,
      "outputs": [
        {
          "output_type": "stream",
          "name": "stdout",
          "text": [
            "OpenWeatherMap .ipynb\n",
            "anzahl-sbb-bahnhofbenutzer-tagesverlauf.csv\n",
            "anzahl-sbb-bahnhofbenutzer.csv\n",
            "data_ingestion_static_files.ipynb\n",
            "linie.csv\n",
            "swiss_weather_data.csv\n",
            "swiss_weather_data_over_time.csv\n"
          ]
        }
      ]
    },
    {
      "cell_type": "markdown",
      "source": [],
      "metadata": {
        "id": "p-FPhGheENzn"
      }
    },
    {
      "cell_type": "code",
      "source": [
        "# List all files in the S3 bucket\n",
        "response = s3_client.list_objects_v2(Bucket=bucket_name)\n",
        "\n",
        "if 'Contents' in response:\n",
        "    for obj in response['Contents']:\n",
        "        print(f\"File: {obj['Key']}, Size: {obj['Size']} bytes\")\n",
        "else:\n",
        "    print(\"No files found in the bucket.\")\n"
      ],
      "metadata": {
        "colab": {
          "base_uri": "https://localhost:8080/"
        },
        "id": "sPItOZp6bJdu",
        "outputId": "614bda40-0735-4a84-d871-48d50fa79f4f"
      },
      "execution_count": null,
      "outputs": [
        {
          "output_type": "stream",
          "name": "stdout",
          "text": [
            "File: OpenWeatherMap .ipynb, Size: 28909 bytes\n",
            "File: anzahl-sbb-bahnhofbenutzer-tagesverlauf.csv, Size: 23953 bytes\n",
            "File: anzahl-sbb-bahnhofbenutzer.csv, Size: 6566 bytes\n",
            "File: data_ingestion_static_files.ipynb, Size: 11254 bytes\n",
            "File: linie.csv, Size: 100536 bytes\n",
            "File: swiss_weather_data.csv, Size: 359 bytes\n",
            "File: swiss_weather_data_over_time.csv, Size: 8674 bytes\n"
          ]
        }
      ]
    },
    {
      "cell_type": "code",
      "source": [],
      "metadata": {
        "id": "9LVmIhUAbKCJ"
      },
      "execution_count": null,
      "outputs": []
    }
  ]
}